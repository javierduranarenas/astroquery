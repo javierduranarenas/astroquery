{
 "metadata": {
  "celltoolbar": "Slideshow",
  "name": "",
  "signature": "sha256:64c96e2e536afd336b2fcfecb353c458f1b8ab63f5a38fa78d0ce28f9de40fae"
 },
 "nbformat": 3,
 "nbformat_minor": 0,
 "worksheets": [
  {
   "cells": [
    {
     "cell_type": "code",
     "collapsed": false,
     "input": [
      "import warnings\n",
      "warnings.filterwarnings('ignore',message='profile')"
     ],
     "language": "python",
     "metadata": {
      "slideshow": {
       "slide_type": "skip"
      }
     },
     "outputs": []
    },
    {
     "cell_type": "markdown",
     "metadata": {
      "slideshow": {
       "slide_type": "slide"
      }
     },
     "source": [
      "## Astroquery ##\n",
      "\n",
      "[Astroquery](http://astroquery.readthedocs.org) is a set of related tools for querying different astronomical database services,  e.g. SIMBAD, VizieR, and IRSA-IPAC, and for retrieving data from archives, e.g. the ESO, IRSA, and NRAO archives.  It also includes tools for querying other astronomy-related databases such as line-list servers at NIST (primarily for optical/NIR electronic transitions) and Splatalogue for mm/radio molecular transitions."
     ]
    },
    {
     "cell_type": "markdown",
     "metadata": {
      "slideshow": {
       "slide_type": "slide"
      }
     },
     "source": [
      "### The layout ### \n",
      "\n",
      "Each astroquery tool includes a `query` method, or a set of `query_*` methods, depending on the capabilities the service offers.\n",
      "\n",
      "For example, SIMBAD supports queries by source name (`query_object`) and by region (`query_region`).  The returned values are always [astropy tables](docs.astropy.org/en/latest/tables/)"
     ]
    },
    {
     "cell_type": "code",
     "collapsed": false,
     "input": [
      "from astroquery.simbad import Simbad\n",
      "from astropy import coordinates\n",
      "from astropy import units as u"
     ],
     "language": "python",
     "metadata": {
      "slideshow": {
       "slide_type": "-"
      }
     },
     "outputs": []
    },
    {
     "cell_type": "code",
     "collapsed": false,
     "input": [
      "result1 = Simbad.query_object('M31')\n",
      "result1"
     ],
     "language": "python",
     "metadata": {
      "slideshow": {
       "slide_type": "fragment"
      }
     },
     "outputs": []
    },
    {
     "cell_type": "code",
     "collapsed": false,
     "input": [
      "result2 = Simbad.query_region(\"05h35m17.3s -05h23m28s\", radius=1*u.arcmin)\n",
      "result2"
     ],
     "language": "python",
     "metadata": {
      "slideshow": {
       "slide_type": "fragment"
      }
     },
     "outputs": []
    },
    {
     "cell_type": "code",
     "collapsed": false,
     "input": [
      "co = coordinates.SkyCoord(l=31.0087, b=14.0627,\n",
      "                          unit=(u.deg, u.deg),\n",
      "                          frame='galactic')\n",
      "result3 = Simbad.query_region(co)\n",
      "result3"
     ],
     "language": "python",
     "metadata": {
      "slideshow": {
       "slide_type": "fragment"
      }
     },
     "outputs": []
    },
    {
     "cell_type": "markdown",
     "metadata": {
      "slideshow": {
       "slide_type": "skip"
      }
     },
     "source": [
      "There are also other query tools for some services, e.g. SIMBAD has a `query_catalog` feature that allows you to query named catalogs, e.g. the NGC catalog or the ESO catalog"
     ]
    },
    {
     "cell_type": "raw",
     "metadata": {
      "slideshow": {
       "slide_type": "skip"
      }
     },
     "source": [
      "esocat = Simbad.query_catalog('eso')\n",
      "esocat"
     ]
    },
    {
     "cell_type": "raw",
     "metadata": {
      "slideshow": {
       "slide_type": "skip"
      }
     },
     "source": [
      "ngccat = Simbad.query_catalog('ngc')\n",
      "ngccat"
     ]
    },
    {
     "cell_type": "markdown",
     "metadata": {
      "slideshow": {
       "slide_type": "skip"
      }
     },
     "source": [
      "In SIMBAD, you can also query a publication to find the sources"
     ]
    },
    {
     "cell_type": "raw",
     "metadata": {
      "slideshow": {
       "slide_type": "skip"
      }
     },
     "source": [
      "gins2012 = Simbad.query_bibcode('2012ApJ...758L..29G')\n",
      "gins2012"
     ]
    },
    {
     "cell_type": "markdown",
     "metadata": {
      "slideshow": {
       "slide_type": "slide"
      }
     },
     "source": [
      "Finally, you can modify the default parameters of the query tool, such as the `TIMEOUT` (the maximum wait time before deciding the query has failed) and the `ROW_LIMIT` (the maximum number of entries returned) by creating a new object.  You can also tell SIMBAD to return additional information, e.g. the number of citations for each object."
     ]
    },
    {
     "cell_type": "code",
     "collapsed": false,
     "input": [
      "customSimbad = Simbad()\n",
      "customSimbad.ROW_LIMIT = 100\n",
      "customSimbad.add_votable_fields('bibcodelist(1800-2014)')\n",
      "sb2 = customSimbad.query_object('Sgr B2')\n",
      "sb2"
     ],
     "language": "python",
     "metadata": {
      "slideshow": {
       "slide_type": "fragment"
      }
     },
     "outputs": []
    },
    {
     "cell_type": "markdown",
     "metadata": {
      "slideshow": {
       "slide_type": "slide"
      }
     },
     "source": [
      "# Archive Query Services #\n",
      "There are archive query services that return data in addition to catalogs. ESO is among these."
     ]
    },
    {
     "cell_type": "markdown",
     "metadata": {
      "slideshow": {
       "slide_type": "subslide"
      }
     },
     "source": [
      "###ESO###\n",
      "\n",
      "The ESO service has the following methods:\n",
      "\n",
      " * `list_instruments` to list the available instruments that can be queried\n",
      " * `list_surveys` lists the available large public surveys\n",
      " * `query_instrument` queries for data sets from a specific instrument\n",
      " * `query_surveys` does the same for surveys\n",
      " * `get_headers` gets header information for any datasets listed from a previous query\n",
      " * `login` logs you in with your username, which is *required* for *any* data retrieval (even public data)\n",
      " * `retrieve_datasets` or (deprecated) `data_retrieval` allows you to stage *and* download any data set your username is allowed to access\n",
      " \n",
      "Queries are cached, so repeating them should be fast.  Downloaded data is also cached to the `Eso.cache_location`"
     ]
    },
    {
     "cell_type": "code",
     "collapsed": false,
     "input": [
      "from astroquery.eso import Eso"
     ],
     "language": "python",
     "metadata": {
      "slideshow": {
       "slide_type": "slide"
      }
     },
     "outputs": []
    },
    {
     "cell_type": "code",
     "collapsed": false,
     "input": [
      "Eso.list_instruments()"
     ],
     "language": "python",
     "metadata": {
      "slideshow": {
       "slide_type": "fragment"
      }
     },
     "outputs": []
    },
    {
     "cell_type": "markdown",
     "metadata": {
      "slideshow": {
       "slide_type": "fragment"
      }
     },
     "source": [
      "In order to figure out how to construct a query, you can open the form directly"
     ]
    },
    {
     "cell_type": "code",
     "collapsed": false,
     "input": [
      "Eso.query_instrument('kmos', open_form=True)"
     ],
     "language": "python",
     "metadata": {
      "slideshow": {
       "slide_type": "fragment"
      }
     },
     "outputs": []
    },
    {
     "cell_type": "markdown",
     "metadata": {
      "slideshow": {
       "slide_type": "fragment"
      }
     },
     "source": [
      "or use the ``help`` keyword.  The printout will then show what keywords correspond to each form name.  For example, the keyword ``pi_coi`` corresponds to the form box ``PI/CoI Name``."
     ]
    },
    {
     "cell_type": "code",
     "collapsed": false,
     "input": [
      "Eso.query_instrument('kmos', help=True)"
     ],
     "language": "python",
     "metadata": {
      "slideshow": {
       "slide_type": "subslide"
      }
     },
     "outputs": []
    },
    {
     "cell_type": "code",
     "collapsed": false,
     "input": [
      "result = Eso.query_instrument('xshooter', pi_coi='manara')\n",
      "result"
     ],
     "language": "python",
     "metadata": {
      "slideshow": {
       "slide_type": "slide"
      }
     },
     "outputs": []
    },
    {
     "cell_type": "code",
     "collapsed": false,
     "input": [
      "result.colnames"
     ],
     "language": "python",
     "metadata": {
      "slideshow": {
       "slide_type": "subslide"
      }
     },
     "outputs": []
    },
    {
     "cell_type": "markdown",
     "metadata": {
      "slideshow": {
       "slide_type": "slide"
      }
     },
     "source": [
      "A simple python trick: a ``set`` is an unordered collection of unique objects (just like in math).  ``np.unique`` does the same thing, but returns a numpy array, which is ordered."
     ]
    },
    {
     "cell_type": "code",
     "collapsed": false,
     "input": [
      "set(result['ProgId'])"
     ],
     "language": "python",
     "metadata": {
      "slideshow": {
       "slide_type": "fragment"
      }
     },
     "outputs": []
    },
    {
     "cell_type": "markdown",
     "metadata": {
      "slideshow": {
       "slide_type": "slide"
      }
     },
     "source": [
      "The ``DP.ID`` row is the Data Product Identifier, which can be used to retrieve (download) the data"
     ]
    },
    {
     "cell_type": "code",
     "collapsed": false,
     "input": [
      "result['DP.ID']"
     ],
     "language": "python",
     "metadata": {
      "slideshow": {
       "slide_type": "fragment"
      }
     },
     "outputs": []
    },
    {
     "cell_type": "markdown",
     "metadata": {
      "slideshow": {
       "slide_type": "fragment"
      }
     },
     "source": [
      "``Eso.login`` will log you in with your username.  It uses the ``keyring`` package to store your username/password if you so choose.  If not, you will be asked to enter your password.\n",
      "\n",
      "**Warning**: If you're using an ipython notebook, the password entry form will appear in the terminal, *not* in the notebook!"
     ]
    },
    {
     "cell_type": "code",
     "collapsed": false,
     "input": [
      "Eso.login('aginsburg')"
     ],
     "language": "python",
     "metadata": {
      "slideshow": {
       "slide_type": "fragment"
      }
     },
     "outputs": []
    },
    {
     "cell_type": "code",
     "collapsed": false,
     "input": [
      "headers = Eso.get_headers(result['DP.ID'][0:1])"
     ],
     "language": "python",
     "metadata": {
      "slideshow": {
       "slide_type": "fragment"
      }
     },
     "outputs": []
    },
    {
     "cell_type": "code",
     "collapsed": false,
     "input": [
      "Eso.data_retrieval(result['DP.ID'][0][0:1])"
     ],
     "language": "python",
     "metadata": {
      "slideshow": {
       "slide_type": "fragment"
      }
     },
     "outputs": []
    },
    {
     "cell_type": "markdown",
     "metadata": {
      "slideshow": {
       "slide_type": "slide"
      }
     },
     "source": [
      "## Line List Tools ##\n",
      "\n",
      "The LAMDA, Splatalogue, and NIST services query online resources related to spectroscopic lines.  "
     ]
    },
    {
     "cell_type": "code",
     "collapsed": false,
     "input": [
      "from astroquery.nist import Nist"
     ],
     "language": "python",
     "metadata": {
      "slideshow": {
       "slide_type": "fragment"
      }
     },
     "outputs": []
    },
    {
     "cell_type": "code",
     "collapsed": false,
     "input": [
      "table = Nist.query(4000 * u.AA, 7000 * u.AA, linename=\"H I\")\n",
      "table"
     ],
     "language": "python",
     "metadata": {
      "slideshow": {
       "slide_type": "fragment"
      }
     },
     "outputs": []
    },
    {
     "cell_type": "code",
     "collapsed": false,
     "input": [
      "from astroquery.splatalogue import Splatalogue"
     ],
     "language": "python",
     "metadata": {
      "slideshow": {
       "slide_type": "slide"
      }
     },
     "outputs": []
    },
    {
     "cell_type": "markdown",
     "metadata": {
      "slideshow": {
       "slide_type": "fragment"
      }
     },
     "source": [
      "Splatalogue provides access to mm lines."
     ]
    },
    {
     "cell_type": "code",
     "collapsed": false,
     "input": [
      "just_CO = Splatalogue.get_species_ids(' CO ') # note the spaces\n",
      "just_CO"
     ],
     "language": "python",
     "metadata": {
      "slideshow": {
       "slide_type": "fragment"
      }
     },
     "outputs": []
    },
    {
     "cell_type": "code",
     "collapsed": false,
     "input": [
      "CO2to1 = Splatalogue.query_lines(1*u.mm, 2*u.mm, chemical_name=\" CO \",\n",
      "                                 only_NRAO_recommended=True,\n",
      "                                 energy_max=50, energy_type='eu_k')\n",
      "CO2to1"
     ],
     "language": "python",
     "metadata": {
      "slideshow": {
       "slide_type": "fragment"
      }
     },
     "outputs": []
    },
    {
     "cell_type": "markdown",
     "metadata": {
      "slideshow": {
       "slide_type": "slide"
      }
     },
     "source": [
      "## Vizier ## \n",
      "Vizier is the main depository of published catalogs.  It provides some very powerful interfaces including an x-match (cross-matching) service.  \n",
      "\n",
      "Vizier queries return [TableList](astroquery.readthedocs.org/en/latest/api/astroquery.utils.TableList.html#astroquery.utils.TableList)s of tables instead of individual tables."
     ]
    },
    {
     "cell_type": "code",
     "collapsed": false,
     "input": [
      "from astroquery.vizier import Vizier"
     ],
     "language": "python",
     "metadata": {
      "slideshow": {
       "slide_type": "fragment"
      }
     },
     "outputs": []
    },
    {
     "cell_type": "code",
     "collapsed": false,
     "input": [
      "velocity_catalogs = Vizier(columns=['all'], ucd='(spect.dopplerVeloc*|phys.veloc*)',\n",
      "                           keywords=['Radio','IR'], row_limit=500)\n",
      "velocity_catalogs"
     ],
     "language": "python",
     "metadata": {
      "slideshow": {
       "slide_type": "fragment"
      }
     },
     "outputs": []
    },
    {
     "cell_type": "markdown",
     "metadata": {
      "slideshow": {
       "slide_type": "slide"
      }
     },
     "source": [
      "A particularly powerful example - search for guide stars within a set radius of your target sources.\n",
      "\n",
      "The following queries only a specific catalog of AGN - ``VII/258/vv10`` - for sources with $10 < M_V < 11$.\n",
      "\n",
      "Note the trailing ``[0]`` because the return is a [TableList](astroquery.readthedocs.org/en/latest/api/astroquery.utils.TableList.html#astroquery.utils.TableList)"
     ]
    },
    {
     "cell_type": "code",
     "collapsed": false,
     "input": [
      "agn = Vizier(catalog=\"VII/258/vv10\").query_constraints(Vmag=\"10.0..11.0\")[0]\n",
      "agn"
     ],
     "language": "python",
     "metadata": {
      "slideshow": {
       "slide_type": "fragment"
      }
     },
     "outputs": []
    },
    {
     "cell_type": "markdown",
     "metadata": {
      "slideshow": {
       "slide_type": "slide"
      }
     },
     "source": [
      "The guide star catalog, ``II/246``, is then queried with the restriction that the guide star must have $M_K<9$ around the selected AGN, given that the distance between the guide star and the AGN is $2\" < r < 30\"$."
     ]
    },
    {
     "cell_type": "code",
     "collapsed": false,
     "input": [
      "guide = Vizier(catalog=\"II/246\", column_filters={\"Kmag\":\"<9.0\"}).query_region(agn, radius=\"30s\", inner_radius=\"2s\")[0]\n",
      "guide"
     ],
     "language": "python",
     "metadata": {
      "slideshow": {
       "slide_type": "fragment"
      }
     },
     "outputs": []
    },
    {
     "cell_type": "markdown",
     "metadata": {
      "slideshow": {
       "slide_type": "slide"
      }
     },
     "source": [
      "The only requirement for this type of query is that the target catalog (``agn`` in the above example) contain the columns ``_RAJ2000`` and ``_DEJ2000``, which all Vizier tables do by default.  You can make your own from any valid coordinate set."
     ]
    },
    {
     "cell_type": "code",
     "collapsed": false,
     "input": [
      "from astropy import table"
     ],
     "language": "python",
     "metadata": {
      "slideshow": {
       "slide_type": "fragment"
      }
     },
     "outputs": []
    },
    {
     "cell_type": "code",
     "collapsed": false,
     "input": [
      "# Some well-known Galactic objects\n",
      "coordinate_list = coordinates.SkyCoord([(0.0,0.0),(49.488,-0.39),(43.1,0.07)] * u.deg, frame='galactic')\n",
      "coordinate_list"
     ],
     "language": "python",
     "metadata": {
      "slideshow": {
       "slide_type": "fragment"
      }
     },
     "outputs": []
    },
    {
     "cell_type": "code",
     "collapsed": false,
     "input": [
      "coord_tbl = table.Table(data=[coordinate_list.fk5.ra.deg,\n",
      "                              coordinate_list.fk5.dec.deg],\n",
      "                        names=('_RAJ2000', '_DEJ2000')\n",
      "                        )\n",
      "coord_tbl['_RAJ2000'].unit = u.deg\n",
      "coord_tbl['_DEJ2000'].unit = u.deg\n",
      "coord_tbl"
     ],
     "language": "python",
     "metadata": {
      "slideshow": {
       "slide_type": "fragment"
      }
     },
     "outputs": []
    },
    {
     "cell_type": "code",
     "collapsed": false,
     "input": [
      "vlbacal = Vizier.find_catalogs('Petrov VLBA Calibrator')\n",
      "{k:v.description for k,v in vlbacal.iteritems()}"
     ],
     "language": "python",
     "metadata": {
      "slideshow": {
       "slide_type": "subslide"
      }
     },
     "outputs": []
    },
    {
     "cell_type": "code",
     "collapsed": false,
     "input": [
      "vlbacal_matches = Vizier(catalog=vlbacal.keys()).query_region(coord_tbl, radius=2*u.deg)\n",
      "vlbacal_matches"
     ],
     "language": "python",
     "metadata": {
      "slideshow": {
       "slide_type": "fragment"
      }
     },
     "outputs": []
    },
    {
     "cell_type": "code",
     "collapsed": false,
     "input": [
      "vlbacal_matches[0]"
     ],
     "language": "python",
     "metadata": {
      "slideshow": {
       "slide_type": "fragment"
      }
     },
     "outputs": []
    },
    {
     "cell_type": "code",
     "collapsed": false,
     "input": [
      "vlbacal_matches[2]"
     ],
     "language": "python",
     "metadata": {
      "slideshow": {
       "slide_type": "fragment"
      }
     },
     "outputs": []
    }
   ],
   "metadata": {}
  }
 ]
}