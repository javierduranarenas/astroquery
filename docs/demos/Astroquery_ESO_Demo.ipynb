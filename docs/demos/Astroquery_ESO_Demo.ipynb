{
 "metadata": {
  "name": "",
  "signature": "sha256:7b8a592a26aeba2519470b022ed0f1162200796a72215d2cf3118915f8210bea"
 },
 "nbformat": 3,
 "nbformat_minor": 0,
 "worksheets": [
  {
   "cells": [
    {
     "cell_type": "code",
     "collapsed": false,
     "input": [
      "import warnings\n",
      "warnings.filterwarnings('ignore',message='profile')"
     ],
     "language": "python",
     "metadata": {},
     "outputs": []
    },
    {
     "cell_type": "markdown",
     "metadata": {},
     "source": [
      "## Astroquery ##\n",
      "\n",
      "Astroquery is a set of related tools for querying different astronomical database services,  e.g. SIMBAD, VizieR, and IRSA-IPAC, and for retrieving data from archives, e.g. the ESO, IRSA, and NRAO archives.  It also includes tools for querying other astronomy-related databases such as line-list servers at NIST (primarily for optical/NIR electronic transitions) and Splatalogue for mm/radio molecular transitions."
     ]
    },
    {
     "cell_type": "markdown",
     "metadata": {},
     "source": [
      "### The layout ### \n",
      "\n",
      "Each astroquery tool includes a `query` method, or a set of `query_*` methods, depending on the capabilities the service offers.\n",
      "\n",
      "For example, SIMBAD supports queries by source name (`query_object`) and by region (`query_region`).  The returned values are always [astropy tables](docs.astropy.org/en/latest/tables/)"
     ]
    },
    {
     "cell_type": "code",
     "collapsed": false,
     "input": [
      "from astroquery.simbad import Simbad\n",
      "from astropy import coordinates\n",
      "from astropy import units as u"
     ],
     "language": "python",
     "metadata": {},
     "outputs": []
    },
    {
     "cell_type": "code",
     "collapsed": false,
     "input": [
      "result1 = Simbad.query_object('M31')\n",
      "result1"
     ],
     "language": "python",
     "metadata": {},
     "outputs": []
    },
    {
     "cell_type": "code",
     "collapsed": false,
     "input": [
      "result2 = Simbad.query_region(\"05h35m17.3s -05h23m28s\", radius=1*u.arcmin)\n",
      "result2"
     ],
     "language": "python",
     "metadata": {},
     "outputs": []
    },
    {
     "cell_type": "code",
     "collapsed": false,
     "input": [
      "result3 = Simbad.query_region(coordinates.SkyCoord(l=31.0087, b=14.0627,\n",
      "                                                   unit=(u.deg, u.deg),\n",
      "                                                   frame='galactic'))\n",
      "result3"
     ],
     "language": "python",
     "metadata": {},
     "outputs": []
    },
    {
     "cell_type": "markdown",
     "metadata": {},
     "source": [
      "There are also other query tools for some services, e.g. SIMBAD has a `query_catalog` feature that allows you to query named catalogs, e.g. the NGC catalog or the ESO catalog"
     ]
    },
    {
     "cell_type": "code",
     "collapsed": false,
     "input": [
      "esocat = Simbad.query_catalog('eso')\n",
      "esocat"
     ],
     "language": "python",
     "metadata": {},
     "outputs": []
    },
    {
     "cell_type": "code",
     "collapsed": false,
     "input": [
      "ngccat = Simbad.query_catalog('ngc')\n",
      "ngccat"
     ],
     "language": "python",
     "metadata": {},
     "outputs": []
    },
    {
     "cell_type": "markdown",
     "metadata": {},
     "source": [
      "In SIMBAD, you can also query a publication to find the sources"
     ]
    },
    {
     "cell_type": "code",
     "collapsed": false,
     "input": [
      "gins2012 = Simbad.query_bibcode('2012ApJ...758L..29G')\n",
      "gins2012"
     ],
     "language": "python",
     "metadata": {},
     "outputs": []
    },
    {
     "cell_type": "markdown",
     "metadata": {},
     "source": [
      "Finally, you can modify the default parameters of the query tool, such as the `TIMEOUT` (the maximum wait time before deciding the query has failed) and the `ROW_LIMIT` (the maximum number of entries returned) by creating a new object.  You can also tell SIMBAD to return additional information, e.g. the number of citations for each object."
     ]
    },
    {
     "cell_type": "code",
     "collapsed": false,
     "input": [
      "customSimbad = Simbad()\n",
      "customSimbad.ROW_LIMIT = 100\n",
      "customSimbad.add_votable_fields('bibcodelist(1800-2014)')\n",
      "gins2012b = customSimbad.query_bibcode('2012ApJ...758L..29G')\n",
      "gins2012b"
     ],
     "language": "python",
     "metadata": {},
     "outputs": []
    },
    {
     "cell_type": "markdown",
     "metadata": {},
     "source": [
      "# Archive Query Services #\n",
      "There are archive query services that return data in addition to catalogs. ESO is among these."
     ]
    },
    {
     "cell_type": "markdown",
     "metadata": {},
     "source": [
      "###ESO###\n",
      "\n",
      "The ESO service has the following methods:\n",
      "\n",
      " * `list_instruments` to list the available instruments that can be queried\n",
      " * `list_surveys` lists the available large public surveys\n",
      " * `query_instrument` queries for data sets from a specific instrument\n",
      " * `query_surveys` does the same for surveys\n",
      " * `get_headers` gets header information for any datasets listed from a previous query\n",
      " * `login` logs you in with your username, which is *required* for *any* data retrieval (even public data)\n",
      " * `retrieve_datasets` or (deprecated) `data_retrieval` allows you to stage *and* download any data set your username is allowed to access\n",
      " \n",
      "Queries are cached, so repeating them should be fast.  Downloaded data is also cached to the `Eso.cache_location`"
     ]
    },
    {
     "cell_type": "code",
     "collapsed": false,
     "input": [
      "from astroquery.eso import Eso"
     ],
     "language": "python",
     "metadata": {},
     "outputs": []
    },
    {
     "cell_type": "code",
     "collapsed": false,
     "input": [
      "Eso.list_instruments()"
     ],
     "language": "python",
     "metadata": {},
     "outputs": []
    },
    {
     "cell_type": "markdown",
     "metadata": {},
     "source": [
      "In order to figure out how to construct a query, you can open the form directly"
     ]
    },
    {
     "cell_type": "code",
     "collapsed": false,
     "input": [
      "Eso.query_instrument('kmos', open_form=True)"
     ],
     "language": "python",
     "metadata": {},
     "outputs": []
    },
    {
     "cell_type": "markdown",
     "metadata": {},
     "source": [
      "or use the ``help`` keyword.  The printout will then show what keywords correspond to each form name.  For example, the keyword ``pi_coi`` corresponds to the form box ``PI/CoI Name``."
     ]
    },
    {
     "cell_type": "code",
     "collapsed": false,
     "input": [
      "Eso.query_instrument('kmos', help=True)"
     ],
     "language": "python",
     "metadata": {},
     "outputs": []
    },
    {
     "cell_type": "code",
     "collapsed": false,
     "input": [
      "result = Eso.query_instrument('xshooter', pi_coi='manara')\n",
      "result"
     ],
     "language": "python",
     "metadata": {},
     "outputs": []
    },
    {
     "cell_type": "code",
     "collapsed": false,
     "input": [
      "result.colnames"
     ],
     "language": "python",
     "metadata": {},
     "outputs": []
    },
    {
     "cell_type": "markdown",
     "metadata": {},
     "source": [
      "A simple python trick: a ``set`` is an unordered collection of unique objects (just like in math).  ``np.unique`` does the same thing, but returns a numpy array, which is ordered."
     ]
    },
    {
     "cell_type": "code",
     "collapsed": false,
     "input": [
      "set(result['ProgId'])"
     ],
     "language": "python",
     "metadata": {},
     "outputs": []
    },
    {
     "cell_type": "markdown",
     "metadata": {},
     "source": [
      "The ``DP.ID`` row is the Data Product Identifier, which can be used to retrieve (download) the data"
     ]
    },
    {
     "cell_type": "code",
     "collapsed": false,
     "input": [
      "result['DP.ID']"
     ],
     "language": "python",
     "metadata": {},
     "outputs": []
    },
    {
     "cell_type": "markdown",
     "metadata": {},
     "source": [
      "``Eso.login`` will log you in with your username.  It uses the ``keyring`` package to store your username/password if you so choose.  If not, you will be asked to enter your password.\n",
      "\n",
      "**Warning**: If you're using an ipython notebook, the password entry form will appear in the terminal, *not* in the notebook!"
     ]
    },
    {
     "cell_type": "code",
     "collapsed": false,
     "input": [
      "Eso.login('aginsburg')"
     ],
     "language": "python",
     "metadata": {},
     "outputs": []
    },
    {
     "cell_type": "code",
     "collapsed": false,
     "input": [
      "headers = Eso.get_headers(result['DP.ID'][0])"
     ],
     "language": "python",
     "metadata": {},
     "outputs": []
    },
    {
     "cell_type": "code",
     "collapsed": false,
     "input": [
      "Eso.data_retrieval(result['DP.ID'][0])"
     ],
     "language": "python",
     "metadata": {},
     "outputs": []
    }
   ],
   "metadata": {}
  }
 ]
}